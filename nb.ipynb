{
 "cells": [
  {
   "cell_type": "code",
   "execution_count": 18,
   "metadata": {},
   "outputs": [],
   "source": [
    "import requests\n",
    "from bs4 import BeautifulSoup\n",
    "# Define the URL of the server with the query string\n",
    "# url = \"http://localhost:8000/generate/?query=\"\n",
    "\n",
    "# # Send the GET request\n",
    "\n",
    "# while True :\n",
    "#     query = input(\"Enter your query: \")\n",
    "#     session = 12\n",
    "#     url = 'http://localhost:8000/generate/'\n",
    "#     params = {\n",
    "#     \"query\": query,\n",
    "#     \"session_id\": session  # Assuming session_id is 123\n",
    "# }\n",
    "#     response = requests.get(url , params=params)\n",
    "\n",
    "#     # Check if the request was successful\n",
    "#     if response.status_code == 200:\n",
    "#         # Parse the JSON response\n",
    "#         data = response.json()\n",
    "#         # Print the generated response\n",
    "#         print(\"Generated Response:\", data[\"response\"])\n",
    "#     else:\n",
    "#         print(\"Error:\", response.text)\n",
    "\n",
    "\n",
    "url = \"https://www.marocannuaire.org/Annuaire/Activite.php?activite=Club%20sport\"\n",
    "response = requests.get(url)\n",
    "\n",
    "soup = BeautifulSoup(response.text, \"html.parser\")\n",
    "text = soup.get_text()\n",
    "\n",
    "# import requests\n",
    "\n",
    "url = \"http://localhost:8000/generate_long_text/\"\n",
    "data = {\"query\": f\"extarct all email in a json format for this TEXT :  {text}\"}\n",
    "\n",
    "response = requests.post(url, json=data)\n",
    "\n",
    "res = response.json()['response']\n"
   ]
  },
  {
   "cell_type": "code",
   "execution_count": 19,
   "metadata": {},
   "outputs": [
    {
     "data": {
      "text/plain": [
       "'[{\"email\":\"rced.tanger@gmail.com\"},{\"email\":\"contact@csmedv.ma\"},{\"email\":\"jabrichawki.nejmefassi@gmail.com\"},{\"email\":\"said_rhassi@hotmail.com\"},{\"email\":\"contact@eliteclub.ma\"},{\"email\":\"cityclubmaroc@gmail.com\"},{\"email\":\"londongym1@gmail.com\"},{\"email\":\"contact@fitnesspromaroc.com\"},{\"email\":\"secretariat@hlacademy.net\"},{\"email\":\"ontact@espace-maman.com\"},{\"email\":\"secretariat@fescountryclub.com\"},{\"email\":\"sportingclubfassi@yahoo.fr\"},{\"email\":\"amine.hasbi1995@gmail.com\"},{\"email\":\"anarchi-85@hotmail.fr\"},{\"email\":\"info@passagefitness.ma\"},{\"email\":\"aikischoolsmaghreb@yahoo.com\"},{\"email\":\"ass_sportivealamal@hotmail.com\"},{\"email\":\"goldengym.fitness@gmail.com\"},{\"email\":\"assomaf1@gmail.com\"},{\"email\":\"fitndance@ymail.com\"},{\"email\":\"younesdahou@hotmail.com\"},{\"email\":\"golf@assoufid.com\"},{\"email\":\"tarajji.marrakech@gmail.com\"},{\"email\":\"atlas-sport1@hotmail.fr\"},{\"email\":\"contact@lacolline.club\"},{\"email\":\"info@bellaforme.ma\"},{\"email\":\"contact@golf-stage-maroc.com\"},{\"email\":\"znibermohamed34@gmail.com\"},{\"email\":\"contact@sarafitnforme.com\"},{\"email\":\"Young.matrix.club@gmail.com\"}]'"
      ]
     },
     "execution_count": 19,
     "metadata": {},
     "output_type": "execute_result"
    }
   ],
   "source": [
    "(res.replace('\\n'  , '').replace(' '  , '').replace(\"'\"  , '')[7:-3])"
   ]
  },
  {
   "cell_type": "code",
   "execution_count": 20,
   "metadata": {},
   "outputs": [
    {
     "name": "stdout",
     "output_type": "stream",
     "text": [
      "{'email': 'rced.tanger@gmail.com'}\n",
      "{'email': 'contact@csmedv.ma'}\n",
      "{'email': 'jabrichawki.nejmefassi@gmail.com'}\n",
      "{'email': 'said_rhassi@hotmail.com'}\n",
      "{'email': 'contact@eliteclub.ma'}\n",
      "{'email': 'cityclubmaroc@gmail.com'}\n",
      "{'email': 'londongym1@gmail.com'}\n",
      "{'email': 'contact@fitnesspromaroc.com'}\n",
      "{'email': 'secretariat@hlacademy.net'}\n",
      "{'email': 'ontact@espace-maman.com'}\n",
      "{'email': 'secretariat@fescountryclub.com'}\n",
      "{'email': 'sportingclubfassi@yahoo.fr'}\n",
      "{'email': 'amine.hasbi1995@gmail.com'}\n",
      "{'email': 'anarchi-85@hotmail.fr'}\n",
      "{'email': 'info@passagefitness.ma'}\n",
      "{'email': 'aikischoolsmaghreb@yahoo.com'}\n",
      "{'email': 'ass_sportivealamal@hotmail.com'}\n",
      "{'email': 'goldengym.fitness@gmail.com'}\n",
      "{'email': 'assomaf1@gmail.com'}\n",
      "{'email': 'fitndance@ymail.com'}\n",
      "{'email': 'younesdahou@hotmail.com'}\n",
      "{'email': 'golf@assoufid.com'}\n",
      "{'email': 'tarajji.marrakech@gmail.com'}\n",
      "{'email': 'atlas-sport1@hotmail.fr'}\n",
      "{'email': 'contact@lacolline.club'}\n",
      "{'email': 'info@bellaforme.ma'}\n",
      "{'email': 'contact@golf-stage-maroc.com'}\n",
      "{'email': 'znibermohamed34@gmail.com'}\n",
      "{'email': 'contact@sarafitnforme.com'}\n",
      "{'email': 'Young.matrix.club@gmail.com'}\n"
     ]
    }
   ],
   "source": [
    "s = (res.replace('\\n'  , '').replace(' '  , '').replace(\"'\"  , '')[7:-3])\n",
    "\n",
    "import ast\n",
    "\n",
    "emails = ast.literal_eval(s)\n",
    "\n",
    "for x in  emails:\n",
    "    print(x)"
   ]
  },
  {
   "cell_type": "code",
   "execution_count": 86,
   "metadata": {},
   "outputs": [],
   "source": [
    "url = \"https://www.stonemaroc.com/\"\n",
    "response = requests.get(url)\n",
    "soup = BeautifulSoup(response.text, \"html.parser\")\n",
    "text = soup.get_text()"
   ]
  },
  {
   "cell_type": "code",
   "execution_count": 6,
   "metadata": {},
   "outputs": [
    {
     "name": "stdout",
     "output_type": "stream",
     "text": [
      "30\n"
     ]
    }
   ],
   "source": [
    "import re , requests\n",
    "from bs4 import BeautifulSoup\n",
    "\n",
    "def extract_emails(url : str):\n",
    "    response = requests.get(url)\n",
    "    soup = BeautifulSoup(response.text, \"html.parser\")\n",
    "    text = soup.get_text()\n",
    "    pattern = r'\\b[A-Za-z0-9._%+-]+@[A-Za-z0-9.-]+\\.[A-Z|a-z]{2,}\\b'\n",
    "    emails = re.findall(pattern, text)\n",
    "    return emails\n",
    "\n",
    "\n",
    "emails = extract_emails('https://www.marocannuaire.org/Annuaire/Activite.php?activite=Club%20sport')\n",
    "print(len(emails))"
   ]
  },
  {
   "cell_type": "code",
   "execution_count": 7,
   "metadata": {},
   "outputs": [
    {
     "data": {
      "text/plain": [
       "['rced.tanger@gmail.com',\n",
       " 'contact@csmedv.ma',\n",
       " 'jabrichawki.nejmefassi@gmail.com',\n",
       " 'said_rhassi@hotmail.com',\n",
       " 'contact@eliteclub.ma',\n",
       " 'cityclubmaroc@gmail.com',\n",
       " 'londongym1@gmail.com',\n",
       " 'contact@fitnesspromaroc.com',\n",
       " 'secretariat@hlacademy.net',\n",
       " 'ontact@espace-maman.com',\n",
       " 'secretariat@fescountryclub.com',\n",
       " 'sportingclubfassi@yahoo.fr',\n",
       " 'amine.hasbi1995@gmail.com',\n",
       " 'anarchi-85@hotmail.fr',\n",
       " 'info@passagefitness.ma',\n",
       " 'aikischoolsmaghreb@yahoo.com',\n",
       " 'ass_sportivealamal@hotmail.com',\n",
       " 'goldengym.fitness@gmail.com',\n",
       " 'assomaf1@gmail.com',\n",
       " 'fitndance@ymail.com',\n",
       " 'younesdahou@hotmail.com',\n",
       " 'golf@assoufid.com',\n",
       " 'tarajji.marrakech@gmail.com',\n",
       " 'atlas-sport1@hotmail.fr',\n",
       " 'contact@lacolline.club',\n",
       " 'info@bellaforme.ma',\n",
       " 'contact@golf-stage-maroc.com',\n",
       " 'znibermohamed34@gmail.com',\n",
       " 'contact@sarafitnforme.com',\n",
       " 'Young.matrix.club@gmail.com']"
      ]
     },
     "execution_count": 7,
     "metadata": {},
     "output_type": "execute_result"
    }
   ],
   "source": [
    "emails"
   ]
  },
  {
   "cell_type": "code",
   "execution_count": 15,
   "metadata": {},
   "outputs": [],
   "source": [
    "url = \"http://localhost:8000/get_emails_from_url/\"\n",
    "params = {\"url\": 'https://www.marocannuaire.org/Annuaire/Activite.php?activite=Club%20sport'}\n",
    "\n",
    "response = requests.get(url, params=params)"
   ]
  },
  {
   "cell_type": "code",
   "execution_count": 17,
   "metadata": {},
   "outputs": [
    {
     "data": {
      "text/plain": [
       "{'emails': ['rced.tanger@gmail.com',\n",
       "  'contact@csmedv.ma',\n",
       "  'jabrichawki.nejmefassi@gmail.com',\n",
       "  'said_rhassi@hotmail.com',\n",
       "  'contact@eliteclub.ma',\n",
       "  'cityclubmaroc@gmail.com',\n",
       "  'londongym1@gmail.com',\n",
       "  'contact@fitnesspromaroc.com',\n",
       "  'secretariat@hlacademy.net',\n",
       "  'ontact@espace-maman.com',\n",
       "  'secretariat@fescountryclub.com',\n",
       "  'sportingclubfassi@yahoo.fr',\n",
       "  'amine.hasbi1995@gmail.com',\n",
       "  'anarchi-85@hotmail.fr',\n",
       "  'info@passagefitness.ma',\n",
       "  'aikischoolsmaghreb@yahoo.com',\n",
       "  'ass_sportivealamal@hotmail.com',\n",
       "  'goldengym.fitness@gmail.com',\n",
       "  'assomaf1@gmail.com',\n",
       "  'fitndance@ymail.com',\n",
       "  'younesdahou@hotmail.com',\n",
       "  'golf@assoufid.com',\n",
       "  'tarajji.marrakech@gmail.com',\n",
       "  'atlas-sport1@hotmail.fr',\n",
       "  'contact@lacolline.club',\n",
       "  'info@bellaforme.ma',\n",
       "  'contact@golf-stage-maroc.com',\n",
       "  'znibermohamed34@gmail.com',\n",
       "  'contact@sarafitnforme.com',\n",
       "  'Young.matrix.club@gmail.com'],\n",
       " 'count': 30}"
      ]
     },
     "execution_count": 17,
     "metadata": {},
     "output_type": "execute_result"
    }
   ],
   "source": [
    "response.json()"
   ]
  }
 ],
 "metadata": {
  "kernelspec": {
   "display_name": "base",
   "language": "python",
   "name": "python3"
  },
  "language_info": {
   "codemirror_mode": {
    "name": "ipython",
    "version": 3
   },
   "file_extension": ".py",
   "mimetype": "text/x-python",
   "name": "python",
   "nbconvert_exporter": "python",
   "pygments_lexer": "ipython3",
   "version": "3.11.5"
  }
 },
 "nbformat": 4,
 "nbformat_minor": 2
}
